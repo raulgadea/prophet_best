{
 "cells": [
  {
   "cell_type": "markdown",
   "metadata": {},
   "source": [
    "# Prophet Grid search Tuturial"
   ]
  },
  {
   "cell_type": "markdown",
   "metadata": {},
   "source": [
    "This tutorial shows a simple example of the Package use."
   ]
  },
  {
   "cell_type": "code",
   "execution_count": 1,
   "metadata": {},
   "outputs": [],
   "source": [
    "from prophet_gridsearch import GridProphetCV\n",
    "import pandas as pd\n",
    "import yaml"
   ]
  },
  {
   "cell_type": "markdown",
   "metadata": {},
   "source": [
    "## Data\n",
    "### Training data\n",
    "The data format needed for the GridProphetCV is the same as the Prophet model.\n",
    "\n",
    "A ds column, an y column and all aditional regressors"
   ]
  },
  {
   "cell_type": "code",
   "execution_count": 2,
   "metadata": {},
   "outputs": [
    {
     "data": {
      "text/html": [
       "<div>\n",
       "<style scoped>\n",
       "    .dataframe tbody tr th:only-of-type {\n",
       "        vertical-align: middle;\n",
       "    }\n",
       "\n",
       "    .dataframe tbody tr th {\n",
       "        vertical-align: top;\n",
       "    }\n",
       "\n",
       "    .dataframe thead th {\n",
       "        text-align: right;\n",
       "    }\n",
       "</style>\n",
       "<table border=\"1\" class=\"dataframe\">\n",
       "  <thead>\n",
       "    <tr style=\"text-align: right;\">\n",
       "      <th></th>\n",
       "      <th>ds</th>\n",
       "      <th>regressor1</th>\n",
       "      <th>y</th>\n",
       "    </tr>\n",
       "  </thead>\n",
       "  <tbody>\n",
       "    <tr>\n",
       "      <th>0</th>\n",
       "      <td>2015-09-01</td>\n",
       "      <td>0</td>\n",
       "      <td>357692.20</td>\n",
       "    </tr>\n",
       "    <tr>\n",
       "      <th>1</th>\n",
       "      <td>2015-09-02</td>\n",
       "      <td>0</td>\n",
       "      <td>327139.49</td>\n",
       "    </tr>\n",
       "    <tr>\n",
       "      <th>2</th>\n",
       "      <td>2015-09-03</td>\n",
       "      <td>0</td>\n",
       "      <td>376662.08</td>\n",
       "    </tr>\n",
       "    <tr>\n",
       "      <th>3</th>\n",
       "      <td>2015-09-04</td>\n",
       "      <td>0</td>\n",
       "      <td>332429.16</td>\n",
       "    </tr>\n",
       "    <tr>\n",
       "      <th>4</th>\n",
       "      <td>2015-09-05</td>\n",
       "      <td>0</td>\n",
       "      <td>396826.40</td>\n",
       "    </tr>\n",
       "    <tr>\n",
       "      <th>...</th>\n",
       "      <td>...</td>\n",
       "      <td>...</td>\n",
       "      <td>...</td>\n",
       "    </tr>\n",
       "    <tr>\n",
       "      <th>876</th>\n",
       "      <td>2018-02-04</td>\n",
       "      <td>1</td>\n",
       "      <td>413842.28</td>\n",
       "    </tr>\n",
       "    <tr>\n",
       "      <th>877</th>\n",
       "      <td>2018-02-05</td>\n",
       "      <td>0</td>\n",
       "      <td>521930.52</td>\n",
       "    </tr>\n",
       "    <tr>\n",
       "      <th>878</th>\n",
       "      <td>2018-02-06</td>\n",
       "      <td>0</td>\n",
       "      <td>491325.83</td>\n",
       "    </tr>\n",
       "    <tr>\n",
       "      <th>879</th>\n",
       "      <td>2018-02-07</td>\n",
       "      <td>0</td>\n",
       "      <td>444578.04</td>\n",
       "    </tr>\n",
       "    <tr>\n",
       "      <th>880</th>\n",
       "      <td>2018-02-08</td>\n",
       "      <td>0</td>\n",
       "      <td>548876.19</td>\n",
       "    </tr>\n",
       "  </tbody>\n",
       "</table>\n",
       "<p>881 rows × 3 columns</p>\n",
       "</div>"
      ],
      "text/plain": [
       "            ds  regressor1          y\n",
       "0   2015-09-01           0  357692.20\n",
       "1   2015-09-02           0  327139.49\n",
       "2   2015-09-03           0  376662.08\n",
       "3   2015-09-04           0  332429.16\n",
       "4   2015-09-05           0  396826.40\n",
       "..         ...         ...        ...\n",
       "876 2018-02-04           1  413842.28\n",
       "877 2018-02-05           0  521930.52\n",
       "878 2018-02-06           0  491325.83\n",
       "879 2018-02-07           0  444578.04\n",
       "880 2018-02-08           0  548876.19\n",
       "\n",
       "[881 rows x 3 columns]"
      ]
     },
     "execution_count": 2,
     "metadata": {},
     "output_type": "execute_result"
    }
   ],
   "source": [
    "data = pd.read_csv('./datasets/dataset.csv', parse_dates=['ds'])\n",
    "data"
   ]
  },
  {
   "cell_type": "markdown",
   "metadata": {},
   "source": [
    "### Holidays\n",
    "GridProphetCV holidays works exacly the same as Facebooks Prophet models.\n",
    "For the holidays usage look at https://facebook.github.io/prophet/docs/seasonality,_holiday_effects,_and_regressors.html#modeling-holidays-and-special-events"
   ]
  },
  {
   "cell_type": "code",
   "execution_count": 3,
   "metadata": {
    "scrolled": true
   },
   "outputs": [
    {
     "data": {
      "text/html": [
       "<div>\n",
       "<style scoped>\n",
       "    .dataframe tbody tr th:only-of-type {\n",
       "        vertical-align: middle;\n",
       "    }\n",
       "\n",
       "    .dataframe tbody tr th {\n",
       "        vertical-align: top;\n",
       "    }\n",
       "\n",
       "    .dataframe thead th {\n",
       "        text-align: right;\n",
       "    }\n",
       "</style>\n",
       "<table border=\"1\" class=\"dataframe\">\n",
       "  <thead>\n",
       "    <tr style=\"text-align: right;\">\n",
       "      <th></th>\n",
       "      <th>holiday</th>\n",
       "      <th>ds</th>\n",
       "      <th>lower_window</th>\n",
       "      <th>upper_window</th>\n",
       "    </tr>\n",
       "  </thead>\n",
       "  <tbody>\n",
       "    <tr>\n",
       "      <th>0</th>\n",
       "      <td>dia padre</td>\n",
       "      <td>2015-03-12</td>\n",
       "      <td>0</td>\n",
       "      <td>0</td>\n",
       "    </tr>\n",
       "    <tr>\n",
       "      <th>1</th>\n",
       "      <td>dia padre</td>\n",
       "      <td>2015-03-13</td>\n",
       "      <td>0</td>\n",
       "      <td>0</td>\n",
       "    </tr>\n",
       "    <tr>\n",
       "      <th>2</th>\n",
       "      <td>dia padre</td>\n",
       "      <td>2015-03-14</td>\n",
       "      <td>0</td>\n",
       "      <td>0</td>\n",
       "    </tr>\n",
       "    <tr>\n",
       "      <th>3</th>\n",
       "      <td>dia padre</td>\n",
       "      <td>2015-03-15</td>\n",
       "      <td>0</td>\n",
       "      <td>0</td>\n",
       "    </tr>\n",
       "    <tr>\n",
       "      <th>4</th>\n",
       "      <td>dia padre</td>\n",
       "      <td>2015-03-16</td>\n",
       "      <td>0</td>\n",
       "      <td>0</td>\n",
       "    </tr>\n",
       "    <tr>\n",
       "      <th>...</th>\n",
       "      <td>...</td>\n",
       "      <td>...</td>\n",
       "      <td>...</td>\n",
       "      <td>...</td>\n",
       "    </tr>\n",
       "    <tr>\n",
       "      <th>404</th>\n",
       "      <td>rebajas</td>\n",
       "      <td>2018-01-16</td>\n",
       "      <td>0</td>\n",
       "      <td>0</td>\n",
       "    </tr>\n",
       "    <tr>\n",
       "      <th>405</th>\n",
       "      <td>rebajas</td>\n",
       "      <td>2018-01-17</td>\n",
       "      <td>0</td>\n",
       "      <td>0</td>\n",
       "    </tr>\n",
       "    <tr>\n",
       "      <th>406</th>\n",
       "      <td>rebajas</td>\n",
       "      <td>2018-01-18</td>\n",
       "      <td>0</td>\n",
       "      <td>0</td>\n",
       "    </tr>\n",
       "    <tr>\n",
       "      <th>407</th>\n",
       "      <td>rebajas</td>\n",
       "      <td>2018-01-19</td>\n",
       "      <td>0</td>\n",
       "      <td>0</td>\n",
       "    </tr>\n",
       "    <tr>\n",
       "      <th>408</th>\n",
       "      <td>dia sin iva</td>\n",
       "      <td>2018-01-20</td>\n",
       "      <td>0</td>\n",
       "      <td>0</td>\n",
       "    </tr>\n",
       "  </tbody>\n",
       "</table>\n",
       "<p>409 rows × 4 columns</p>\n",
       "</div>"
      ],
      "text/plain": [
       "         holiday         ds  lower_window  upper_window\n",
       "0      dia padre 2015-03-12             0             0\n",
       "1      dia padre 2015-03-13             0             0\n",
       "2      dia padre 2015-03-14             0             0\n",
       "3      dia padre 2015-03-15             0             0\n",
       "4      dia padre 2015-03-16             0             0\n",
       "..           ...        ...           ...           ...\n",
       "404      rebajas 2018-01-16             0             0\n",
       "405      rebajas 2018-01-17             0             0\n",
       "406      rebajas 2018-01-18             0             0\n",
       "407      rebajas 2018-01-19             0             0\n",
       "408  dia sin iva 2018-01-20             0             0\n",
       "\n",
       "[409 rows x 4 columns]"
      ]
     },
     "execution_count": 3,
     "metadata": {},
     "output_type": "execute_result"
    }
   ],
   "source": [
    "holidays = pd.read_csv('./datasets/holidays.csv', parse_dates=['ds'])\n",
    "holidays"
   ]
  },
  {
   "cell_type": "markdown",
   "metadata": {},
   "source": [
    "### Configuration\n",
    "In order to perform the grid search configuration a dictionay of lists, with all combinations wanted, is required. "
   ]
  },
  {
   "cell_type": "code",
   "execution_count": 4,
   "metadata": {},
   "outputs": [
    {
     "data": {
      "text/plain": [
       "{'yearly_seasonality': [False, True],\n",
       " 'add_monthly_seasonality': [False,\n",
       "  {'name': ['monthly'], 'period': [30.5], 'fourier_order': [5, 13]}],\n",
       " 'add_regressor_1': [False, {'name': ['regressor1']}],\n",
       " 'weekly_seasonality': [True, False],\n",
       " 'holidays': [None, True]}"
      ]
     },
     "execution_count": 4,
     "metadata": {},
     "output_type": "execute_result"
    }
   ],
   "source": [
    "with open('./datasets/model_config.yaml') as file:\n",
    "    hyperparameters = yaml.load(file, Loader=yaml.FullLoader)\n",
    "hyperparameters['prophet']"
   ]
  },
  {
   "cell_type": "code",
   "execution_count": 5,
   "metadata": {},
   "outputs": [],
   "source": [
    "train_data = data.head(870)\n",
    "test_data = data.tail(11)"
   ]
  },
  {
   "cell_type": "code",
   "execution_count": 6,
   "metadata": {},
   "outputs": [],
   "source": [
    "gs = GridProphetCV(param_grid=hyperparameters['prophet'], horizon='7 days', initial='365 days', period='300 days',\n",
    "                  holidays=holidays, return_train_score=True, n_jobs=8, verbose=True)"
   ]
  },
  {
   "cell_type": "code",
   "execution_count": 7,
   "metadata": {},
   "outputs": [
    {
     "name": "stderr",
     "output_type": "stream",
     "text": [
      "INFO:numexpr.utils:NumExpr defaulting to 8 threads.\n",
      "INFO:numexpr.utils:NumExpr defaulting to 8 threads.\n",
      "INFO:numexpr.utils:NumExpr defaulting to 8 threads.\n",
      "INFO:numexpr.utils:NumExpr defaulting to 8 threads.\n",
      "INFO:numexpr.utils:NumExpr defaulting to 8 threads.\n",
      "INFO:numexpr.utils:NumExpr defaulting to 8 threads.\n",
      "INFO:numexpr.utils:NumExpr defaulting to 8 threads.\n",
      "INFO:numexpr.utils:NumExpr defaulting to 8 threads.\n",
      "INFO:GridProphetCV:Combination 1/48 for params {'holidays': None, 'weekly_seasonality': False, 'yearly_seasonality': False} takes 14.416736602783203 seconds\n",
      "INFO:GridProphetCV:Combination 2/48 for params {'add_regressor_1': {'name': 'regressor1'}, 'holidays': None, 'weekly_seasonality': True, 'yearly_seasonality': False} takes 14.490270853042603 seconds\n",
      "INFO:GridProphetCV:Combination 3/48 for params {'add_regressor_1': {'name': 'regressor1'}, 'holidays': None, 'weekly_seasonality': False, 'yearly_seasonality': False} takes 14.84180235862732 seconds\n",
      "INFO:GridProphetCV:Combination 4/48 for params {'holidays': None, 'weekly_seasonality': True, 'yearly_seasonality': False} takes 15.00866174697876 seconds\n",
      "INFO:GridProphetCV:Combination 5/48 for params {'add_regressor_1': {'name': 'regressor1'}, 'holidays': True, 'weekly_seasonality': False, 'yearly_seasonality': False} takes 35.78039526939392 seconds\n",
      "INFO:GridProphetCV:Combination 6/48 for params {'holidays': True, 'weekly_seasonality': False, 'yearly_seasonality': False} takes 36.21322774887085 seconds\n",
      "INFO:GridProphetCV:Combination 7/48 for params {'add_regressor_1': {'name': 'regressor1'}, 'holidays': True, 'weekly_seasonality': True, 'yearly_seasonality': False} takes 37.128169536590576 seconds\n",
      "INFO:GridProphetCV:Combination 8/48 for params {'holidays': True, 'weekly_seasonality': True, 'yearly_seasonality': False} takes 37.52461051940918 seconds\n",
      "INFO:GridProphetCV:Combination 9/48 for params {'holidays': None, 'weekly_seasonality': True, 'yearly_seasonality': True} takes 54.664594411849976 seconds\n",
      "INFO:GridProphetCV:Combination 10/48 for params {'add_regressor_1': {'name': 'regressor1'}, 'holidays': None, 'weekly_seasonality': False, 'yearly_seasonality': True} takes 56.24550104141235 seconds\n",
      "INFO:GridProphetCV:Combination 11/48 for params {'add_regressor_1': {'name': 'regressor1'}, 'holidays': None, 'weekly_seasonality': True, 'yearly_seasonality': True} takes 56.720035791397095 seconds\n",
      "INFO:GridProphetCV:Combination 12/48 for params {'holidays': None, 'weekly_seasonality': False, 'yearly_seasonality': True} takes 57.94328260421753 seconds\n",
      "INFO:GridProphetCV:Combination 13/48 for params {'holidays': True, 'weekly_seasonality': False, 'yearly_seasonality': True} takes 55.83677124977112 seconds\n",
      "INFO:GridProphetCV:Combination 14/48 for params {'add_regressor_1': {'name': 'regressor1'}, 'holidays': True, 'weekly_seasonality': True, 'yearly_seasonality': True} takes 56.90701103210449 seconds\n",
      "INFO:GridProphetCV:Combination 15/48 for params {'holidays': True, 'weekly_seasonality': True, 'yearly_seasonality': True} takes 57.91820764541626 seconds\n",
      "INFO:GridProphetCV:Combination 16/48 for params {'add_regressor_1': {'name': 'regressor1'}, 'holidays': True, 'weekly_seasonality': False, 'yearly_seasonality': True} takes 59.676342725753784 seconds\n",
      "INFO:GridProphetCV:Combination 17/48 for params {'add_monthly_seasonality': {'fourier_order': 5, 'name': 'monthly', 'period': 30.5}, 'holidays': None, 'weekly_seasonality': True, 'yearly_seasonality': False} takes 31.971630573272705 seconds\n",
      "INFO:GridProphetCV:Combination 18/48 for params {'add_monthly_seasonality': {'fourier_order': 5, 'name': 'monthly', 'period': 30.5}, 'holidays': None, 'weekly_seasonality': False, 'yearly_seasonality': False} takes 31.023348093032837 seconds\n",
      "INFO:GridProphetCV:Combination 19/48 for params {'add_monthly_seasonality': {'fourier_order': 5, 'name': 'monthly', 'period': 30.5}, 'holidays': None, 'weekly_seasonality': False, 'yearly_seasonality': True} takes 36.7346305847168 seconds\n",
      "INFO:GridProphetCV:Combination 20/48 for params {'add_monthly_seasonality': {'fourier_order': 5, 'name': 'monthly', 'period': 30.5}, 'holidays': None, 'weekly_seasonality': True, 'yearly_seasonality': True} takes 38.3115918636322 seconds\n",
      "INFO:GridProphetCV:Combination 21/48 for params {'add_monthly_seasonality': {'fourier_order': 5, 'name': 'monthly', 'period': 30.5}, 'holidays': True, 'weekly_seasonality': True, 'yearly_seasonality': False} takes 45.60418963432312 seconds\n",
      "INFO:GridProphetCV:Combination 22/48 for params {'add_monthly_seasonality': {'fourier_order': 13, 'name': 'monthly', 'period': 30.5}, 'holidays': None, 'weekly_seasonality': True, 'yearly_seasonality': False} takes 38.8081750869751 seconds\n",
      "INFO:GridProphetCV:Combination 23/48 for params {'add_monthly_seasonality': {'fourier_order': 5, 'name': 'monthly', 'period': 30.5}, 'holidays': True, 'weekly_seasonality': True, 'yearly_seasonality': True} takes 47.12324905395508 seconds\n",
      "INFO:GridProphetCV:Combination 24/48 for params {'add_monthly_seasonality': {'fourier_order': 5, 'name': 'monthly', 'period': 30.5}, 'holidays': True, 'weekly_seasonality': False, 'yearly_seasonality': False} takes 49.23888874053955 seconds\n",
      "INFO:GridProphetCV:Combination 25/48 for params {'add_monthly_seasonality': {'fourier_order': 13, 'name': 'monthly', 'period': 30.5}, 'holidays': None, 'weekly_seasonality': False, 'yearly_seasonality': False} takes 40.601757526397705 seconds\n",
      "INFO:GridProphetCV:Combination 26/48 for params {'add_monthly_seasonality': {'fourier_order': 5, 'name': 'monthly', 'period': 30.5}, 'holidays': True, 'weekly_seasonality': False, 'yearly_seasonality': True} takes 52.400367736816406 seconds\n",
      "INFO:GridProphetCV:Combination 27/48 for params {'add_monthly_seasonality': {'fourier_order': 13, 'name': 'monthly', 'period': 30.5}, 'holidays': None, 'weekly_seasonality': True, 'yearly_seasonality': True} takes 39.999627113342285 seconds\n",
      "INFO:GridProphetCV:Combination 28/48 for params {'add_monthly_seasonality': {'fourier_order': 13, 'name': 'monthly', 'period': 30.5}, 'holidays': None, 'weekly_seasonality': False, 'yearly_seasonality': True} takes 40.77712845802307 seconds\n",
      "INFO:GridProphetCV:Combination 29/48 for params {'add_monthly_seasonality': {'fourier_order': 5, 'name': 'monthly', 'period': 30.5}, 'add_regressor_1': {'name': 'regressor1'}, 'holidays': None, 'weekly_seasonality': True, 'yearly_seasonality': False} takes 26.288535833358765 seconds\n",
      "INFO:GridProphetCV:Combination 30/48 for params {'add_monthly_seasonality': {'fourier_order': 5, 'name': 'monthly', 'period': 30.5}, 'add_regressor_1': {'name': 'regressor1'}, 'holidays': None, 'weekly_seasonality': True, 'yearly_seasonality': True} takes 30.578771352767944 seconds\n",
      "INFO:GridProphetCV:Combination 31/48 for params {'add_monthly_seasonality': {'fourier_order': 5, 'name': 'monthly', 'period': 30.5}, 'add_regressor_1': {'name': 'regressor1'}, 'holidays': None, 'weekly_seasonality': False, 'yearly_seasonality': False} takes 27.49940323829651 seconds\n",
      "INFO:GridProphetCV:Combination 32/48 for params {'add_monthly_seasonality': {'fourier_order': 13, 'name': 'monthly', 'period': 30.5}, 'holidays': True, 'weekly_seasonality': True, 'yearly_seasonality': False} takes 42.804790019989014 seconds\n",
      "INFO:GridProphetCV:Combination 33/48 for params {'add_monthly_seasonality': {'fourier_order': 13, 'name': 'monthly', 'period': 30.5}, 'holidays': True, 'weekly_seasonality': True, 'yearly_seasonality': True} takes 41.193997621536255 seconds\n",
      "INFO:GridProphetCV:Combination 34/48 for params {'add_monthly_seasonality': {'fourier_order': 5, 'name': 'monthly', 'period': 30.5}, 'add_regressor_1': {'name': 'regressor1'}, 'holidays': None, 'weekly_seasonality': False, 'yearly_seasonality': True} takes 34.36981153488159 seconds\n",
      "INFO:GridProphetCV:Combination 35/48 for params {'add_monthly_seasonality': {'fourier_order': 13, 'name': 'monthly', 'period': 30.5}, 'holidays': True, 'weekly_seasonality': False, 'yearly_seasonality': False} takes 43.40747404098511 seconds\n",
      "INFO:GridProphetCV:Combination 36/48 for params {'add_monthly_seasonality': {'fourier_order': 13, 'name': 'monthly', 'period': 30.5}, 'holidays': True, 'weekly_seasonality': False, 'yearly_seasonality': True} takes 45.064231157302856 seconds\n"
     ]
    },
    {
     "name": "stderr",
     "output_type": "stream",
     "text": [
      "INFO:GridProphetCV:Combination 37/48 for params {'add_monthly_seasonality': {'fourier_order': 13, 'name': 'monthly', 'period': 30.5}, 'add_regressor_1': {'name': 'regressor1'}, 'holidays': None, 'weekly_seasonality': True, 'yearly_seasonality': False} takes 38.03134369850159 seconds\n",
      "INFO:GridProphetCV:Combination 38/48 for params {'add_monthly_seasonality': {'fourier_order': 13, 'name': 'monthly', 'period': 30.5}, 'add_regressor_1': {'name': 'regressor1'}, 'holidays': None, 'weekly_seasonality': False, 'yearly_seasonality': False} takes 39.79715323448181 seconds\n",
      "INFO:GridProphetCV:Combination 39/48 for params {'add_monthly_seasonality': {'fourier_order': 13, 'name': 'monthly', 'period': 30.5}, 'add_regressor_1': {'name': 'regressor1'}, 'holidays': None, 'weekly_seasonality': True, 'yearly_seasonality': True} takes 43.156718254089355 seconds\n",
      "INFO:GridProphetCV:Combination 40/48 for params {'add_monthly_seasonality': {'fourier_order': 13, 'name': 'monthly', 'period': 30.5}, 'add_regressor_1': {'name': 'regressor1'}, 'holidays': None, 'weekly_seasonality': False, 'yearly_seasonality': True} takes 39.2816207408905 seconds\n",
      "INFO:GridProphetCV:Combination 41/48 for params {'add_monthly_seasonality': {'fourier_order': 5, 'name': 'monthly', 'period': 30.5}, 'add_regressor_1': {'name': 'regressor1'}, 'holidays': True, 'weekly_seasonality': True, 'yearly_seasonality': True} takes 44.735028982162476 seconds\n",
      "INFO:GridProphetCV:Combination 42/48 for params {'add_monthly_seasonality': {'fourier_order': 5, 'name': 'monthly', 'period': 30.5}, 'add_regressor_1': {'name': 'regressor1'}, 'holidays': True, 'weekly_seasonality': True, 'yearly_seasonality': False} takes 48.36884117126465 seconds\n",
      "INFO:GridProphetCV:Combination 43/48 for params {'add_monthly_seasonality': {'fourier_order': 5, 'name': 'monthly', 'period': 30.5}, 'add_regressor_1': {'name': 'regressor1'}, 'holidays': True, 'weekly_seasonality': False, 'yearly_seasonality': False} takes 41.738601207733154 seconds\n",
      "INFO:GridProphetCV:Combination 44/48 for params {'add_monthly_seasonality': {'fourier_order': 5, 'name': 'monthly', 'period': 30.5}, 'add_regressor_1': {'name': 'regressor1'}, 'holidays': True, 'weekly_seasonality': False, 'yearly_seasonality': True} takes 39.546512842178345 seconds\n",
      "INFO:GridProphetCV:Combination 45/48 for params {'add_monthly_seasonality': {'fourier_order': 13, 'name': 'monthly', 'period': 30.5}, 'add_regressor_1': {'name': 'regressor1'}, 'holidays': True, 'weekly_seasonality': True, 'yearly_seasonality': True} takes 19.479317665100098 seconds\n",
      "INFO:GridProphetCV:Combination 46/48 for params {'add_monthly_seasonality': {'fourier_order': 13, 'name': 'monthly', 'period': 30.5}, 'add_regressor_1': {'name': 'regressor1'}, 'holidays': True, 'weekly_seasonality': True, 'yearly_seasonality': False} takes 20.655104160308838 seconds\n",
      "INFO:GridProphetCV:Combination 47/48 for params {'add_monthly_seasonality': {'fourier_order': 13, 'name': 'monthly', 'period': 30.5}, 'add_regressor_1': {'name': 'regressor1'}, 'holidays': True, 'weekly_seasonality': False, 'yearly_seasonality': False} takes 19.99911332130432 seconds\n",
      "INFO:GridProphetCV:Combination 48/48 for params {'add_monthly_seasonality': {'fourier_order': 13, 'name': 'monthly', 'period': 30.5}, 'add_regressor_1': {'name': 'regressor1'}, 'holidays': True, 'weekly_seasonality': False, 'yearly_seasonality': True} takes 19.222488403320312 seconds\n",
      "INFO:GridProphetCV:Training ends. Taking 253.51040697097778 seconds to complete.\n"
     ]
    },
    {
     "data": {
      "text/plain": [
       "<prophet_gridsearch.director.GridProphetCV at 0x7f7c4fdc9c50>"
      ]
     },
     "execution_count": 7,
     "metadata": {},
     "output_type": "execute_result"
    }
   ],
   "source": [
    "gs.fit(df=train_data)"
   ]
  },
  {
   "cell_type": "code",
   "execution_count": 8,
   "metadata": {},
   "outputs": [],
   "source": [
    "best_model = gs.best_model(metric='mae')\n"
   ]
  },
  {
   "cell_type": "code",
   "execution_count": 9,
   "metadata": {},
   "outputs": [
    {
     "data": {
      "text/html": [
       "<div>\n",
       "<style scoped>\n",
       "    .dataframe tbody tr th:only-of-type {\n",
       "        vertical-align: middle;\n",
       "    }\n",
       "\n",
       "    .dataframe tbody tr th {\n",
       "        vertical-align: top;\n",
       "    }\n",
       "\n",
       "    .dataframe thead th {\n",
       "        text-align: right;\n",
       "    }\n",
       "</style>\n",
       "<table border=\"1\" class=\"dataframe\">\n",
       "  <thead>\n",
       "    <tr style=\"text-align: right;\">\n",
       "      <th></th>\n",
       "      <th>horizon</th>\n",
       "      <th>mse</th>\n",
       "      <th>rmse</th>\n",
       "      <th>mae</th>\n",
       "      <th>mape</th>\n",
       "      <th>mdape</th>\n",
       "      <th>coverage</th>\n",
       "    </tr>\n",
       "  </thead>\n",
       "  <tbody>\n",
       "    <tr>\n",
       "      <th>0</th>\n",
       "      <td>0 days</td>\n",
       "      <td>1.737781e+10</td>\n",
       "      <td>131824.939399</td>\n",
       "      <td>92636.680741</td>\n",
       "      <td>0.160775</td>\n",
       "      <td>0.129594</td>\n",
       "      <td>0.867816</td>\n",
       "    </tr>\n",
       "  </tbody>\n",
       "</table>\n",
       "</div>"
      ],
      "text/plain": [
       "  horizon           mse           rmse           mae      mape     mdape  \\\n",
       "0  0 days  1.737781e+10  131824.939399  92636.680741  0.160775  0.129594   \n",
       "\n",
       "   coverage  \n",
       "0  0.867816  "
      ]
     },
     "execution_count": 9,
     "metadata": {},
     "output_type": "execute_result"
    }
   ],
   "source": [
    "best_model.train_result"
   ]
  },
  {
   "cell_type": "code",
   "execution_count": 10,
   "metadata": {},
   "outputs": [
    {
     "data": {
      "text/html": [
       "<div>\n",
       "<style scoped>\n",
       "    .dataframe tbody tr th:only-of-type {\n",
       "        vertical-align: middle;\n",
       "    }\n",
       "\n",
       "    .dataframe tbody tr th {\n",
       "        vertical-align: top;\n",
       "    }\n",
       "\n",
       "    .dataframe thead th {\n",
       "        text-align: right;\n",
       "    }\n",
       "</style>\n",
       "<table border=\"1\" class=\"dataframe\">\n",
       "  <thead>\n",
       "    <tr style=\"text-align: right;\">\n",
       "      <th></th>\n",
       "      <th>horizon</th>\n",
       "      <th>mse</th>\n",
       "      <th>rmse</th>\n",
       "      <th>mae</th>\n",
       "      <th>mape</th>\n",
       "      <th>mdape</th>\n",
       "      <th>coverage</th>\n",
       "    </tr>\n",
       "  </thead>\n",
       "  <tbody>\n",
       "    <tr>\n",
       "      <th>0</th>\n",
       "      <td>7 days</td>\n",
       "      <td>8.043460e+09</td>\n",
       "      <td>89685.341193</td>\n",
       "      <td>64037.06879</td>\n",
       "      <td>0.125602</td>\n",
       "      <td>0.081546</td>\n",
       "      <td>0.857143</td>\n",
       "    </tr>\n",
       "  </tbody>\n",
       "</table>\n",
       "</div>"
      ],
      "text/plain": [
       "  horizon           mse          rmse          mae      mape     mdape  \\\n",
       "0  7 days  8.043460e+09  89685.341193  64037.06879  0.125602  0.081546   \n",
       "\n",
       "   coverage  \n",
       "0  0.857143  "
      ]
     },
     "execution_count": 10,
     "metadata": {},
     "output_type": "execute_result"
    }
   ],
   "source": [
    "best_model.cv_result"
   ]
  },
  {
   "cell_type": "code",
   "execution_count": 11,
   "metadata": {},
   "outputs": [
    {
     "name": "stderr",
     "output_type": "stream",
     "text": [
      "INFO:numexpr.utils:NumExpr defaulting to 8 threads.\n"
     ]
    },
    {
     "data": {
      "text/html": [
       "<div>\n",
       "<style scoped>\n",
       "    .dataframe tbody tr th:only-of-type {\n",
       "        vertical-align: middle;\n",
       "    }\n",
       "\n",
       "    .dataframe tbody tr th {\n",
       "        vertical-align: top;\n",
       "    }\n",
       "\n",
       "    .dataframe thead th {\n",
       "        text-align: right;\n",
       "    }\n",
       "</style>\n",
       "<table border=\"1\" class=\"dataframe\">\n",
       "  <thead>\n",
       "    <tr style=\"text-align: right;\">\n",
       "      <th></th>\n",
       "      <th>horizon</th>\n",
       "      <th>mse</th>\n",
       "      <th>rmse</th>\n",
       "      <th>mae</th>\n",
       "      <th>mape</th>\n",
       "      <th>mdape</th>\n",
       "      <th>coverage</th>\n",
       "    </tr>\n",
       "  </thead>\n",
       "  <tbody>\n",
       "    <tr>\n",
       "      <th>0</th>\n",
       "      <td>11 days</td>\n",
       "      <td>2.905699e+10</td>\n",
       "      <td>170461.111657</td>\n",
       "      <td>150049.144018</td>\n",
       "      <td>0.306315</td>\n",
       "      <td>0.313927</td>\n",
       "      <td>0.454545</td>\n",
       "    </tr>\n",
       "  </tbody>\n",
       "</table>\n",
       "</div>"
      ],
      "text/plain": [
       "  horizon           mse           rmse            mae      mape     mdape  \\\n",
       "0 11 days  2.905699e+10  170461.111657  150049.144018  0.306315  0.313927   \n",
       "\n",
       "   coverage  \n",
       "0  0.454545  "
      ]
     },
     "execution_count": 11,
     "metadata": {},
     "output_type": "execute_result"
    }
   ],
   "source": [
    "best_model.get_prediction_result(df=test_data)"
   ]
  },
  {
   "cell_type": "code",
   "execution_count": 13,
   "metadata": {},
   "outputs": [],
   "source": [
    "from fbprophet.diagnostics import cross_validation, performance_metrics"
   ]
  },
  {
   "cell_type": "code",
   "execution_count": 14,
   "metadata": {},
   "outputs": [],
   "source": [
    "df_cv = cross_validation(best_model, horizon='7 days', initial='365 days', period='300 days')"
   ]
  },
  {
   "cell_type": "code",
   "execution_count": 16,
   "metadata": {},
   "outputs": [],
   "source": [
    "df_cv.cutoff = df_cv.ds"
   ]
  },
  {
   "cell_type": "code",
   "execution_count": 17,
   "metadata": {},
   "outputs": [],
   "source": [
    "df_performance = performance_metrics(df_cv, rolling_window=1)"
   ]
  },
  {
   "cell_type": "code",
   "execution_count": 18,
   "metadata": {},
   "outputs": [
    {
     "data": {
      "text/html": [
       "<div>\n",
       "<style scoped>\n",
       "    .dataframe tbody tr th:only-of-type {\n",
       "        vertical-align: middle;\n",
       "    }\n",
       "\n",
       "    .dataframe tbody tr th {\n",
       "        vertical-align: top;\n",
       "    }\n",
       "\n",
       "    .dataframe thead th {\n",
       "        text-align: right;\n",
       "    }\n",
       "</style>\n",
       "<table border=\"1\" class=\"dataframe\">\n",
       "  <thead>\n",
       "    <tr style=\"text-align: right;\">\n",
       "      <th></th>\n",
       "      <th>horizon</th>\n",
       "      <th>mse</th>\n",
       "      <th>rmse</th>\n",
       "      <th>mae</th>\n",
       "      <th>mape</th>\n",
       "      <th>mdape</th>\n",
       "      <th>coverage</th>\n",
       "    </tr>\n",
       "  </thead>\n",
       "  <tbody>\n",
       "    <tr>\n",
       "      <th>0</th>\n",
       "      <td>0 days</td>\n",
       "      <td>8.043460e+09</td>\n",
       "      <td>89685.341193</td>\n",
       "      <td>64037.06879</td>\n",
       "      <td>0.125602</td>\n",
       "      <td>0.081546</td>\n",
       "      <td>0.857143</td>\n",
       "    </tr>\n",
       "  </tbody>\n",
       "</table>\n",
       "</div>"
      ],
      "text/plain": [
       "  horizon           mse          rmse          mae      mape     mdape  \\\n",
       "0  0 days  8.043460e+09  89685.341193  64037.06879  0.125602  0.081546   \n",
       "\n",
       "   coverage  \n",
       "0  0.857143  "
      ]
     },
     "execution_count": 18,
     "metadata": {},
     "output_type": "execute_result"
    }
   ],
   "source": [
    "df_performance"
   ]
  },
  {
   "cell_type": "code",
   "execution_count": null,
   "metadata": {},
   "outputs": [],
   "source": []
  }
 ],
 "metadata": {
  "kernelspec": {
   "display_name": "Python 3",
   "language": "python",
   "name": "python3"
  },
  "language_info": {
   "codemirror_mode": {
    "name": "ipython",
    "version": 3
   },
   "file_extension": ".py",
   "mimetype": "text/x-python",
   "name": "python",
   "nbconvert_exporter": "python",
   "pygments_lexer": "ipython3",
   "version": "3.7.3"
  }
 },
 "nbformat": 4,
 "nbformat_minor": 4
}
